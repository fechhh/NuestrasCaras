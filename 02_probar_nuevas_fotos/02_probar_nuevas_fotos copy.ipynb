{
 "cells": [
  {
   "cell_type": "markdown",
   "metadata": {},
   "source": [
    "# Probar Modelo\n",
    "\n",
    "Tal como se menciona en el REDME del proyecto, los pasos para ejecutar la notebook son:\n",
    "\n",
    "1. Colocar las nuevas imágenes con formato \"jpg\" o \"jpeg\" en la carpeta \"02_probar_nuevas_fotos\\fotos_prueba\".\n",
    "\n",
    "    Es importante que las mismas tengan el nombre de la persona en minuscula y un número en nombre del archivo.\n",
    "\n",
    "    Por ejemplo: \"paola1.jpeg\", \"paola2.jpeg\" o \"lautaro1.jpeg\", \"lautaro2.jpeg\".\n",
    "\n",
    "    En caso de tener personas con el mismo nombre, colocar el nombre en minuscula, seguido de la primera letra del apellido en mayuscula.\n",
    "\n",
    "    Por ejemplo: \"federicoG1.jpeg\", \"federicoG2.jpeg\" o \"federicoR1.jpeg\", \"federicoR2.jpeg\".\n",
    "\n",
    "2. Ejecutar la notebook (Run all) e ir manualmente al final de la misma para observar los resultados."
   ]
  },
  {
   "cell_type": "code",
   "execution_count": null,
   "metadata": {},
   "outputs": [],
   "source": [
    "# RECORTAR IMAGENES?\n",
    "RECORTAR_IMAGENES = False"
   ]
  },
  {
   "cell_type": "markdown",
   "metadata": {},
   "source": [
    "## Importar Librerías"
   ]
  },
  {
   "cell_type": "code",
   "execution_count": 2,
   "metadata": {},
   "outputs": [],
   "source": [
    "import os\n",
    "import pandas as pd\n",
    "import numpy as np\n",
    "import matplotlib.pyplot as plt\n",
    "from sklearn.decomposition import PCA\n",
    "from sklearn.preprocessing import LabelBinarizer\n",
    "from sklearn.model_selection import train_test_split\n",
    "from PIL import Image\n",
    "import cv2\n",
    "import re\n",
    "import face_recognition\n"
   ]
  },
  {
   "cell_type": "markdown",
   "metadata": {},
   "source": [
    "## Importar objetos para predicción (modelo, pca, scaler)"
   ]
  },
  {
   "cell_type": "code",
   "execution_count": 3,
   "metadata": {},
   "outputs": [],
   "source": [
    "import joblib\n",
    "import pickle\n",
    "scaler = joblib.load('scaler.pkl')\n",
    "pca = joblib.load('pca.pkl')\n",
    "label_binarizer = joblib.load('label_binarizer.pkl')\n",
    "scaler_min_max = joblib.load('scaler_min_max.pkl')\n",
    "cara_promedio_pca = joblib.load('cara_promedio_pca.pkl')\n",
    "with open('weights_dict.pkl', 'rb') as archivo:\n",
    "    weights_dict = pickle.load(archivo)\n"
   ]
  },
  {
   "cell_type": "markdown",
   "metadata": {},
   "source": [
    "## Recortar imagenes"
   ]
  },
  {
   "cell_type": "code",
   "execution_count": null,
   "metadata": {},
   "outputs": [],
   "source": [
    "# Preparar las imagenes para ejecucion de la notebook (DEJAR EN FALSE)\n",
    "import os\n",
    "import sys\n",
    "\n",
    "# Obtener el path de ejecucion de la notebook\n",
    "current_dir = os.getcwd()\n",
    "\n",
    "# Define el nombre del proyecto\n",
    "root_dir_name = \"NuestrasCaras\"\n",
    "\n",
    "# Obtiene el path del proyecto\n",
    "while not os.path.basename(current_dir) == root_dir_name:\n",
    "    current_dir = os.path.dirname(current_dir)\n",
    "    \n",
    "# Obtiene el path de las funciones para \n",
    "dir_func_00 = os.path.join(current_dir,\"00_preparar_imagenes_entrenamiento\")\n",
    "dir_func_01 = os.path.join(current_dir,\"01_entrenar_modelo\")\n",
    "dir_func_02 = os.path.join(current_dir,\"02_probar_nuevas_fotos\")\n",
    "dir_func_03 = os.path.join(current_dir,\"03_pruebas_entrenamiento_tensorflow\")\n",
    "\n",
    "# Agrega path a librerias\n",
    "sys.path.append(current_dir)\n",
    "sys.path.append(dir_func_00)\n",
    "sys.path.append(dir_func_01)\n",
    "sys.path.append(dir_func_02)\n",
    "sys.path.append(dir_func_03)\n",
    "\n",
    "from preparar_imagenes import preparar_imagenes_testeo\n",
    "from backpropagation import evaluate_predictions\n",
    "\n",
    "if RECORTAR_IMAGENES:\n",
    "    dir_imagenes_input_testeo = os.path.join(current_dir,\"02_probar_nuevas_fotos\", \"fotos_prueba\")\n",
    "    dir_imagenes_outputtesteo = os.path.join(current_dir,\"02_probar_nuevas_fotos\", \"fotos_prueba_recortadas\")\n",
    "    preparar_imagenes_testeo(dir_imagenes_input_testeo, dir_imagenes_outputtesteo)"
   ]
  },
  {
   "cell_type": "markdown",
   "metadata": {},
   "source": [
    "## Importar imagenes recortadas"
   ]
  },
  {
   "cell_type": "code",
   "execution_count": 4,
   "metadata": {},
   "outputs": [],
   "source": [
    "# Configuración inicial\n",
    "data_dir = (\"fotos_prueba_recortadas\")  # Cambia esto a la ruta de tu directorio de imágenes\n",
    "nombres = []\n",
    "imagenes = []\n",
    "\n",
    "# Cargar imágenes y etiquetas\n",
    "for archivo in os.listdir(data_dir):\n",
    "    if archivo.endswith('.jpeg') or archivo.endswith('.jpg'):\n",
    "        nombre = archivo.split('_')[0].replace(\".jpg\",\"\").replace(\".jpeg\",\"\")\n",
    "        nombre = re.sub(r'\\d+', '', nombre)\n",
    "        ruta_imagen = os.path.join(data_dir, archivo)\n",
    "        imagen = Image.open(ruta_imagen)\n",
    "        imagen = np.array(imagen.resize((30, 30)))  # Redimensionar imágenes para un tamaño uniforme\n",
    "        if len(imagen.shape) == 3 and imagen.shape[2] == 3:\n",
    "            imagen = cv2.cvtColor(imagen, cv2.COLOR_RGB2GRAY)  # Convertir a escala de grises si es necesario\n",
    "        imagenes.append(imagen.flatten())\n",
    "        nombres.append(nombre)\n",
    "\n",
    "new_images_test = np.array(imagenes)\n",
    "nombres_new_test = np.array(nombres)\n",
    "\n",
    "# estand\n",
    "new_images_test = new_images_test/255.0"
   ]
  },
  {
   "cell_type": "code",
   "execution_count": 6,
   "metadata": {},
   "outputs": [],
   "source": [
    "greyscale_values_predict = pd.DataFrame(new_images_test)\n",
    "people_names_predict = nombres_new_test.reshape(-1)"
   ]
  },
  {
   "cell_type": "code",
   "execution_count": 7,
   "metadata": {},
   "outputs": [],
   "source": [
    "# definir X_new, nombres_y_new, y_new\n",
    "X_new, nombres_y_new = greyscale_values_predict, people_names_predict\n",
    "y_new = label_binarizer.transform(nombres_y_new)"
   ]
  },
  {
   "cell_type": "code",
   "execution_count": 8,
   "metadata": {},
   "outputs": [
    {
     "name": "stdout",
     "output_type": "stream",
     "text": [
      "(6, 900)\n"
     ]
    },
    {
     "data": {
      "text/plain": [
       "array(['lautaro', 'lautaro', 'lautaro', 'lautaro', 'paola', 'paola'],\n",
       "      dtype='<U7')"
      ]
     },
     "execution_count": 8,
     "metadata": {},
     "output_type": "execute_result"
    }
   ],
   "source": [
    "print(X_new.shape)\n",
    "nombres_y_new"
   ]
  },
  {
   "cell_type": "code",
   "execution_count": 11,
   "metadata": {},
   "outputs": [],
   "source": [
    "# aplicar pca y escalado de datos\n",
    "\n",
    "# obtener CPs\n",
    "X_new_pca = pca.transform(X_new)\n",
    "\n",
    "# estandarizar CPs\n",
    "X_new_pca_scaled = scaler.transform(X_new_pca)\n",
    "\n",
    "# escalamiento 0-1 CPs\n",
    "X_new_pca_min_max = scaler_min_max.transform(X_new_pca)\n",
    "\n",
    "# resto cara promedio\n",
    "X_new_pca_menos_cara_promedio = X_new_pca - cara_promedio_pca"
   ]
  },
  {
   "cell_type": "code",
   "execution_count": 12,
   "metadata": {},
   "outputs": [],
   "source": [
    "classes = label_binarizer.classes_"
   ]
  },
  {
   "cell_type": "markdown",
   "metadata": {},
   "source": [
    "## Correr modelo seleccionado con las nuevas imagenes"
   ]
  },
  {
   "cell_type": "code",
   "execution_count": 14,
   "metadata": {},
   "outputs": [
    {
     "data": {
      "text/html": [
       "<div>\n",
       "<style scoped>\n",
       "    .dataframe tbody tr th:only-of-type {\n",
       "        vertical-align: middle;\n",
       "    }\n",
       "\n",
       "    .dataframe tbody tr th {\n",
       "        vertical-align: top;\n",
       "    }\n",
       "\n",
       "    .dataframe thead th {\n",
       "        text-align: right;\n",
       "    }\n",
       "</style>\n",
       "<table border=\"1\" class=\"dataframe\">\n",
       "  <thead>\n",
       "    <tr style=\"text-align: right;\">\n",
       "      <th></th>\n",
       "      <th>Valor máximo</th>\n",
       "      <th>Nombre de la columna</th>\n",
       "      <th>Nombre verdadero</th>\n",
       "    </tr>\n",
       "  </thead>\n",
       "  <tbody>\n",
       "    <tr>\n",
       "      <th>2</th>\n",
       "      <td>0.845194</td>\n",
       "      <td>lautaro</td>\n",
       "      <td>lautaro</td>\n",
       "    </tr>\n",
       "    <tr>\n",
       "      <th>4</th>\n",
       "      <td>0.997683</td>\n",
       "      <td>paola</td>\n",
       "      <td>paola</td>\n",
       "    </tr>\n",
       "    <tr>\n",
       "      <th>5</th>\n",
       "      <td>0.997663</td>\n",
       "      <td>paola</td>\n",
       "      <td>paola</td>\n",
       "    </tr>\n",
       "  </tbody>\n",
       "</table>\n",
       "</div>"
      ],
      "text/plain": [
       "   Valor máximo Nombre de la columna Nombre verdadero\n",
       "2      0.845194              lautaro          lautaro\n",
       "4      0.997683                paola            paola\n",
       "5      0.997663                paola            paola"
      ]
     },
     "metadata": {},
     "output_type": "display_data"
    },
    {
     "data": {
      "text/html": [
       "<div>\n",
       "<style scoped>\n",
       "    .dataframe tbody tr th:only-of-type {\n",
       "        vertical-align: middle;\n",
       "    }\n",
       "\n",
       "    .dataframe tbody tr th {\n",
       "        vertical-align: top;\n",
       "    }\n",
       "\n",
       "    .dataframe thead th {\n",
       "        text-align: right;\n",
       "    }\n",
       "</style>\n",
       "<table border=\"1\" class=\"dataframe\">\n",
       "  <thead>\n",
       "    <tr style=\"text-align: right;\">\n",
       "      <th></th>\n",
       "      <th>Valor máximo</th>\n",
       "      <th>Nombre de la columna</th>\n",
       "      <th>Nombre verdadero</th>\n",
       "    </tr>\n",
       "  </thead>\n",
       "  <tbody>\n",
       "    <tr>\n",
       "      <th>0</th>\n",
       "      <td>0.013784</td>\n",
       "      <td>gerard</td>\n",
       "      <td>lautaro</td>\n",
       "    </tr>\n",
       "    <tr>\n",
       "      <th>1</th>\n",
       "      <td>0.077842</td>\n",
       "      <td>victorio</td>\n",
       "      <td>lautaro</td>\n",
       "    </tr>\n",
       "    <tr>\n",
       "      <th>3</th>\n",
       "      <td>0.944933</td>\n",
       "      <td>marco</td>\n",
       "      <td>lautaro</td>\n",
       "    </tr>\n",
       "  </tbody>\n",
       "</table>\n",
       "</div>"
      ],
      "text/plain": [
       "   Valor máximo Nombre de la columna Nombre verdadero\n",
       "0      0.013784               gerard          lautaro\n",
       "1      0.077842             victorio          lautaro\n",
       "3      0.944933                marco          lautaro"
      ]
     },
     "metadata": {},
     "output_type": "display_data"
    },
    {
     "data": {
      "text/plain": [
       "50.0"
      ]
     },
     "execution_count": 14,
     "metadata": {},
     "output_type": "execute_result"
    }
   ],
   "source": [
    "# obtenemos predicciones\n",
    "df_results_predict = evaluate_predictions(x_new = X_new_pca, y_labels=classes, y_value=np.array(nombres_y_new), weights_dict=weights_dict)\n",
    "\n",
    "# mostrar bien clasificados\n",
    "display(df_results_predict[df_results_predict[\"Nombre de la columna\"]==df_results_predict[\"Nombre verdadero\"]])\n",
    "\n",
    "# mostrar mal clasificados\n",
    "display(df_results_predict[df_results_predict[\"Nombre de la columna\"]!=df_results_predict[\"Nombre verdadero\"]])\n",
    "\n",
    "# mostrar Error\n",
    "(df_results_predict[df_results_predict[\"Nombre de la columna\"]==df_results_predict[\"Nombre verdadero\"]]).shape[0] / df_results_predict.shape[0] * 100"
   ]
  }
 ],
 "metadata": {
  "kernelspec": {
   "display_name": "nuestras_caras_grupo_1",
   "language": "python",
   "name": "python3"
  },
  "language_info": {
   "codemirror_mode": {
    "name": "ipython",
    "version": 3
   },
   "file_extension": ".py",
   "mimetype": "text/x-python",
   "name": "python",
   "nbconvert_exporter": "python",
   "pygments_lexer": "ipython3",
   "version": "3.11.8"
  }
 },
 "nbformat": 4,
 "nbformat_minor": 2
}

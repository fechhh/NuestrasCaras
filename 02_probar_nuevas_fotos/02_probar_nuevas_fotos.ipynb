{
 "cells": [
  {
   "cell_type": "markdown",
   "metadata": {},
   "source": [
    "# Probar Modelo\n",
    "\n",
    "Pasos:\n",
    "\n",
    "1. Colocar imagenes en la carpeta \"02_probar_nuevas_fotos\\fotos_prueba\"\n",
    "\n",
    "2. Ejecutar Notebook"
   ]
  },
  {
   "cell_type": "markdown",
   "metadata": {},
   "source": [
    "definir librerias a instalar..."
   ]
  },
  {
   "cell_type": "code",
   "execution_count": null,
   "metadata": {},
   "outputs": [],
   "source": [
    "# RECORTAR IMAGENES?\n",
    "RECORTAR_IMAGENES = False"
   ]
  },
  {
   "cell_type": "markdown",
   "metadata": {},
   "source": [
    "## Importar Librerías"
   ]
  },
  {
   "cell_type": "code",
   "execution_count": 2,
   "metadata": {},
   "outputs": [],
   "source": [
    "import os\n",
    "import pandas as pd\n",
    "import numpy as np\n",
    "import matplotlib.pyplot as plt\n",
    "from sklearn.decomposition import PCA\n",
    "from sklearn.preprocessing import LabelBinarizer\n",
    "from sklearn.model_selection import train_test_split\n",
    "from PIL import Image\n",
    "import cv2\n",
    "import re\n",
    "import face_recognition\n"
   ]
  },
  {
   "cell_type": "markdown",
   "metadata": {},
   "source": [
    "## Importar objetos para predicción (modelo, pca, scaler)"
   ]
  },
  {
   "cell_type": "code",
   "execution_count": 3,
   "metadata": {},
   "outputs": [],
   "source": [
    "import joblib\n",
    "import pickle\n",
    "scaler = joblib.load('scaler.pkl')\n",
    "pca = joblib.load('pca.pkl')\n",
    "label_binarizer = joblib.load('label_binarizer.pkl')\n",
    "scaler_min_max = joblib.load('scaler_min_max.pkl')\n",
    "cara_promedio_pca = joblib.load('cara_promedio_pca.pkl')\n",
    "with open('weights_dict.pkl', 'rb') as archivo:\n",
    "    weights_dict = pickle.load(archivo)\n"
   ]
  },
  {
   "cell_type": "markdown",
   "metadata": {},
   "source": [
    "## Recortar imagenes"
   ]
  },
  {
   "cell_type": "code",
   "execution_count": null,
   "metadata": {},
   "outputs": [],
   "source": [
    "data_dir = (\"fotos_prueba\")\n",
    "\n",
    "## Definimos funcion para cortar caras de una imagen\n",
    "def cortar_imagenes(input_dir, output_dir, dim=DIM):\n",
    "    # Cargamos el detector de rostros de la libreria face_recognition\n",
    "    face_cascade = cv2.CascadeClassifier(cv2.data.haarcascades + \"haarcascade_frontalface_default.xml\")\n",
    "\n",
    "    # Create the output directory if it doesn't exist\n",
    "    os.makedirs(output_dir, exist_ok=True)\n",
    "\n",
    "    i = 0\n",
    "    # Para cada archivo del directorio de imput comenzamos el loop\n",
    "    for filename in os.listdir(input_dir):\n",
    "        i += 1\n",
    "        # Cargamos la imagen\n",
    "        input_path = os.path.join(input_dir, filename)\n",
    "        img = cv2.imread(input_path)\n",
    "\n",
    "        # Detectamos el rostro en la imagen\n",
    "        face_locations = face_recognition.face_locations(img)\n",
    "        \n",
    "        # Cortamos y cambiamos a escala de grises\n",
    "        for (top, right, bottom, left) in face_locations:\n",
    "            face = img[top:bottom, left:right]\n",
    "            face = cv2.resize(face, (dim, dim))\n",
    "            face = cv2.cvtColor(face, cv2.COLOR_BGR2GRAY)\n",
    "\n",
    "            # Guardamos el proceso en la carpeta de salida\n",
    "            output_path = os.path.join(output_dir, f\"{filename}\")\n",
    "            cv2.imwrite(output_path, face)\n",
    "            \n",
    "if RECORTAR_IMAGENES:\n",
    "    cortar_imagenes(input_dir=\"fotos_prueba\", output_dir=\"fotos_prueba_recortadas\")"
   ]
  },
  {
   "cell_type": "markdown",
   "metadata": {},
   "source": [
    "## Importar imagenes recortadas"
   ]
  },
  {
   "cell_type": "code",
   "execution_count": 4,
   "metadata": {},
   "outputs": [],
   "source": [
    "# Configuración inicial\n",
    "data_dir = (\"fotos_prueba_recortadas\")  # Cambia esto a la ruta de tu directorio de imágenes\n",
    "nombres = []\n",
    "imagenes = []\n",
    "\n",
    "# Cargar imágenes y etiquetas\n",
    "for archivo in os.listdir(data_dir):\n",
    "    if archivo.endswith('.jpeg') or archivo.endswith('.jpg'):\n",
    "        nombre = archivo.split('_')[0].replace(\".jpg\",\"\").replace(\".jpeg\",\"\")\n",
    "        nombre = re.sub(r'\\d+', '', nombre)\n",
    "        ruta_imagen = os.path.join(data_dir, archivo)\n",
    "        imagen = Image.open(ruta_imagen)\n",
    "        imagen = np.array(imagen.resize((30, 30)))  # Redimensionar imágenes para un tamaño uniforme\n",
    "        if len(imagen.shape) == 3 and imagen.shape[2] == 3:\n",
    "            imagen = cv2.cvtColor(imagen, cv2.COLOR_RGB2GRAY)  # Convertir a escala de grises si es necesario\n",
    "        imagenes.append(imagen.flatten())\n",
    "        nombres.append(nombre)\n",
    "\n",
    "new_images_test = np.array(imagenes)\n",
    "nombres_new_test = np.array(nombres)\n",
    "\n",
    "# estand\n",
    "new_images_test = new_images_test/255.0"
   ]
  },
  {
   "cell_type": "code",
   "execution_count": 6,
   "metadata": {},
   "outputs": [],
   "source": [
    "greyscale_values_predict = pd.DataFrame(new_images_test)\n",
    "people_names_predict = nombres_new_test.reshape(-1)"
   ]
  },
  {
   "cell_type": "code",
   "execution_count": 7,
   "metadata": {},
   "outputs": [],
   "source": [
    "# definir X_new, nombres_y_new, y_new\n",
    "X_new, nombres_y_new = greyscale_values_predict, people_names_predict\n",
    "y_new = label_binarizer.transform(nombres_y_new)"
   ]
  },
  {
   "cell_type": "code",
   "execution_count": 8,
   "metadata": {},
   "outputs": [
    {
     "name": "stdout",
     "output_type": "stream",
     "text": [
      "(6, 900)\n"
     ]
    },
    {
     "data": {
      "text/plain": [
       "array(['lautaro', 'lautaro', 'lautaro', 'lautaro', 'paola', 'paola'],\n",
       "      dtype='<U7')"
      ]
     },
     "execution_count": 8,
     "metadata": {},
     "output_type": "execute_result"
    }
   ],
   "source": [
    "print(X_new.shape)\n",
    "nombres_y_new"
   ]
  },
  {
   "cell_type": "code",
   "execution_count": 11,
   "metadata": {},
   "outputs": [],
   "source": [
    "# aplicar pca y escalado de datos\n",
    "\n",
    "# obtener CPs\n",
    "X_new_pca = pca.transform(X_new)\n",
    "\n",
    "# estandarizar CPs\n",
    "X_new_pca_scaled = scaler.transform(X_new_pca)\n",
    "\n",
    "# escalamiento 0-1 CPs\n",
    "X_new_pca_min_max = scaler_min_max.transform(X_new_pca)\n",
    "\n",
    "# resto cara promedio\n",
    "X_new_pca_menos_cara_promedio = X_new_pca - cara_promedio_pca"
   ]
  },
  {
   "cell_type": "code",
   "execution_count": 12,
   "metadata": {},
   "outputs": [],
   "source": [
    "classes = label_binarizer.classes_"
   ]
  },
  {
   "cell_type": "markdown",
   "metadata": {},
   "source": [
    "## Correr modelo seleccionado con las nuevas imagenes"
   ]
  },
  {
   "cell_type": "code",
   "execution_count": 13,
   "metadata": {},
   "outputs": [],
   "source": [
    "from backpropagation_test import evaluate_predictions"
   ]
  },
  {
   "cell_type": "code",
   "execution_count": 14,
   "metadata": {},
   "outputs": [
    {
     "data": {
      "text/html": [
       "<div>\n",
       "<style scoped>\n",
       "    .dataframe tbody tr th:only-of-type {\n",
       "        vertical-align: middle;\n",
       "    }\n",
       "\n",
       "    .dataframe tbody tr th {\n",
       "        vertical-align: top;\n",
       "    }\n",
       "\n",
       "    .dataframe thead th {\n",
       "        text-align: right;\n",
       "    }\n",
       "</style>\n",
       "<table border=\"1\" class=\"dataframe\">\n",
       "  <thead>\n",
       "    <tr style=\"text-align: right;\">\n",
       "      <th></th>\n",
       "      <th>Valor máximo</th>\n",
       "      <th>Nombre de la columna</th>\n",
       "      <th>Nombre verdadero</th>\n",
       "    </tr>\n",
       "  </thead>\n",
       "  <tbody>\n",
       "    <tr>\n",
       "      <th>2</th>\n",
       "      <td>0.845194</td>\n",
       "      <td>lautaro</td>\n",
       "      <td>lautaro</td>\n",
       "    </tr>\n",
       "    <tr>\n",
       "      <th>4</th>\n",
       "      <td>0.997683</td>\n",
       "      <td>paola</td>\n",
       "      <td>paola</td>\n",
       "    </tr>\n",
       "    <tr>\n",
       "      <th>5</th>\n",
       "      <td>0.997663</td>\n",
       "      <td>paola</td>\n",
       "      <td>paola</td>\n",
       "    </tr>\n",
       "  </tbody>\n",
       "</table>\n",
       "</div>"
      ],
      "text/plain": [
       "   Valor máximo Nombre de la columna Nombre verdadero\n",
       "2      0.845194              lautaro          lautaro\n",
       "4      0.997683                paola            paola\n",
       "5      0.997663                paola            paola"
      ]
     },
     "metadata": {},
     "output_type": "display_data"
    },
    {
     "data": {
      "text/html": [
       "<div>\n",
       "<style scoped>\n",
       "    .dataframe tbody tr th:only-of-type {\n",
       "        vertical-align: middle;\n",
       "    }\n",
       "\n",
       "    .dataframe tbody tr th {\n",
       "        vertical-align: top;\n",
       "    }\n",
       "\n",
       "    .dataframe thead th {\n",
       "        text-align: right;\n",
       "    }\n",
       "</style>\n",
       "<table border=\"1\" class=\"dataframe\">\n",
       "  <thead>\n",
       "    <tr style=\"text-align: right;\">\n",
       "      <th></th>\n",
       "      <th>Valor máximo</th>\n",
       "      <th>Nombre de la columna</th>\n",
       "      <th>Nombre verdadero</th>\n",
       "    </tr>\n",
       "  </thead>\n",
       "  <tbody>\n",
       "    <tr>\n",
       "      <th>0</th>\n",
       "      <td>0.013784</td>\n",
       "      <td>gerard</td>\n",
       "      <td>lautaro</td>\n",
       "    </tr>\n",
       "    <tr>\n",
       "      <th>1</th>\n",
       "      <td>0.077842</td>\n",
       "      <td>victorio</td>\n",
       "      <td>lautaro</td>\n",
       "    </tr>\n",
       "    <tr>\n",
       "      <th>3</th>\n",
       "      <td>0.944933</td>\n",
       "      <td>marco</td>\n",
       "      <td>lautaro</td>\n",
       "    </tr>\n",
       "  </tbody>\n",
       "</table>\n",
       "</div>"
      ],
      "text/plain": [
       "   Valor máximo Nombre de la columna Nombre verdadero\n",
       "0      0.013784               gerard          lautaro\n",
       "1      0.077842             victorio          lautaro\n",
       "3      0.944933                marco          lautaro"
      ]
     },
     "metadata": {},
     "output_type": "display_data"
    },
    {
     "data": {
      "text/plain": [
       "50.0"
      ]
     },
     "execution_count": 14,
     "metadata": {},
     "output_type": "execute_result"
    }
   ],
   "source": [
    "# obtenemos predicciones\n",
    "df_results_predict = evaluate_predictions(x_new = X_new_pca, y_labels=classes, y_value=np.array(nombres_y_new), weights_dict=weights_dict)\n",
    "\n",
    "# mostrar bien clasificados\n",
    "display(df_results_predict[df_results_predict[\"Nombre de la columna\"]==df_results_predict[\"Nombre verdadero\"]])\n",
    "\n",
    "# mostrar mal clasificados\n",
    "display(df_results_predict[df_results_predict[\"Nombre de la columna\"]!=df_results_predict[\"Nombre verdadero\"]])\n",
    "\n",
    "# mostrar Error\n",
    "(df_results_predict[df_results_predict[\"Nombre de la columna\"]==df_results_predict[\"Nombre verdadero\"]]).shape[0] / df_results_predict.shape[0] * 100"
   ]
  }
 ],
 "metadata": {
  "kernelspec": {
   "display_name": "nuestras_caras_grupo_1",
   "language": "python",
   "name": "python3"
  },
  "language_info": {
   "codemirror_mode": {
    "name": "ipython",
    "version": 3
   },
   "file_extension": ".py",
   "mimetype": "text/x-python",
   "name": "python",
   "nbconvert_exporter": "python",
   "pygments_lexer": "ipython3",
   "version": "3.11.8"
  }
 },
 "nbformat": 4,
 "nbformat_minor": 2
}

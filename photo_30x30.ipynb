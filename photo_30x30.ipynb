{
 "cells": [
  {
   "cell_type": "code",
   "execution_count": null,
   "metadata": {},
   "outputs": [],
   "source": [
    "#Yo realice la tarea con la libreria face recognition del GRUPO1 del año pasado\n",
    "#Recuerdo que luche mucho para instalarla a esta libreria... pero en Zulip puse un tutorial de como instalarla \n",
    "#Deberiamos unificar con pixels.py?\n",
    "#Para no subir todos los archivos de fotos crudas al respositorio solo deje 2 de prueba (y algunos outputs)"
   ]
  },
  {
   "cell_type": "code",
   "execution_count": 5,
   "metadata": {},
   "outputs": [],
   "source": [
    "import os\n",
    "import cv2\n",
    "import face_recognition\n",
    "\n",
    "# Setear el directorio de input (imagenes crudas) aqui deberiamos mejorar para que lea fotos de cualquier tipo de archivo de foto\n",
    "# Setear el directorio de output (imagenes 30x30 en escala de grises cortadas sobre las caras)\n",
    "input_dir = 'input'\n",
    "output_dir = 'output'\n",
    "\n",
    "# Cargamos el detector de rostros de la libreria face_recognition\n",
    "face_cascade = cv2.CascadeClassifier(cv2.data.haarcascades + \"haarcascade_frontalface_default.xml\")\n",
    "\n",
    "# Para cada archivo del directorio de imput comenzamos el loop\n",
    "for filename in os.listdir(input_dir):\n",
    "    # Cargamos la imagen\n",
    "    input_path = os.path.join(input_dir, filename)\n",
    "    img = cv2.imread(input_path)\n",
    "\n",
    "    # Detectamos el rostro en la imagen\n",
    "    face_locations = face_recognition.face_locations(img)\n",
    "\n",
    "    # Cortamos y cambiamos a escala de grises\n",
    "    for (top, right, bottom, left) in face_locations:\n",
    "        face = img[top:bottom, left:right]\n",
    "        face = cv2.resize(face, (30, 30))\n",
    "        face = cv2.cvtColor(face, cv2.COLOR_BGR2GRAY)\n",
    "\n",
    "        # Guardamos el proceso en la carpeta de salida\n",
    "        output_path = os.path.join(output_dir, f\"{filename.split('.')[0]}_salida.jpg\")\n",
    "        cv2.imwrite(output_path, face)"
   ]
  }
 ],
 "metadata": {
  "kernelspec": {
   "display_name": "Python 3 (ipykernel)",
   "language": "python",
   "name": "python3"
  },
  "language_info": {
   "codemirror_mode": {
    "name": "ipython",
    "version": 3
   },
   "file_extension": ".py",
   "mimetype": "text/x-python",
   "name": "python",
   "nbconvert_exporter": "python",
   "pygments_lexer": "ipython3",
   "version": "3.8.11"
  },
  "vscode": {
   "interpreter": {
    "hash": "6ff8cb0b443d191aaf74af393fe86e938828f8cf80f951ceef9068b5b1e13a43"
   }
  }
 },
 "nbformat": 4,
 "nbformat_minor": 4
}
